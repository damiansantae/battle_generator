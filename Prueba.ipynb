{
 "cells": [
  {
   "cell_type": "code",
   "execution_count": null,
   "metadata": {},
   "outputs": [],
   "source": [
    "import numpy as np\n",
    "import pymysql\n",
    "\n",
    "db = pymysql.connect(host='localhost',\n",
    "                             user='root',\n",
    "                             password='dat14',\n",
    "                             db='cwb_bd')\n",
    "cursor = db.cursor()"
   ]
  },
  {
   "cell_type": "code",
   "execution_count": null,
   "metadata": {},
   "outputs": [],
   "source": [
    "porcentaje_conq=0.4\n",
    "porcentaje_reb=0.05\n",
    "porcentaje_municipio=0.3"
   ]
  },
  {
   "cell_type": "code",
   "execution_count": null,
   "metadata": {},
   "outputs": [],
   "source": [
    "data = \"\"\n",
    "with open(\"C:\\\\Users\\\\lapan\\\\PycharmProjects\\\\battle_generator\\\\json\\\\El_Hierro\\\\Valverde.json\", 'r+') as outfile:\n",
    "     json.dump(data, outfile)\n",
    "     data=json.load(outfile)"
   ]
  },
  {
   "cell_type": "code",
   "execution_count": null,
   "metadata": {},
   "outputs": [],
   "source": [
    "def get_municipio():\n",
    "   return np.random.randint(1, high=89) ##Municipios +1"
   ]
  },
  {
   "cell_type": "code",
   "execution_count": null,
   "metadata": {},
   "outputs": [],
   "source": [
    "def battle():\n",
    "  id_x = get_municipio();\n",
    "  print(\"Seleccionado municipio: \",id_x)\n",
    "    \n",
    "    \n",
    "  sql = \"SELECT id_propietario from municipios where id_municipio = {0}\".format(id_x)\n",
    "  cursor.execute(sql)\n",
    "  prop_x=cursor.fetchall()[0][0]\n",
    "\n",
    "  sql = \"SELECT nombre from municipios where id_municipio = {0}\".format(id_x)\n",
    "  cursor.execute(sql)\n",
    "  nombreMunicipio=cursor.fetchall()[0][0]\n",
    "\n",
    "  sql = \"SELECT nombre from municipios where id_municipio = {0}\".format(prop_x)\n",
    "  cursor.execute(sql)\n",
    "  conquistador=cursor.fetchall()[0][0]\n",
    "    \n",
    "  print(\"Seleccionado municipio: \",nombreMunicipio)\n",
    "\n",
    "  if id_x == prop_x :\n",
    "    print(\"El propietario del municipio es el mismo\")\n",
    "    create_conquest(prop_x,id_x, conquistador, nombreMunicipio)\n",
    "  else:\n",
    "    print(\"El propietario del municipio es otro: \",prop_x, \",\", conquistador)\n",
    "    create_revellion(prop_x,id_x, conquistador, nombreMunicipio)"
   ]
  },
  {
   "cell_type": "code",
   "execution_count": null,
   "metadata": {},
   "outputs": [],
   "source": [
    "def is_same_owner(id_x, id_frontera):\n",
    "  sql = \"SELECT id_propietario from municipios where id_municipio = {0}\".format(id_frontera)\n",
    "  cursor.execute(sql)\n",
    "  prop_x=cursor.fetchall()[0][0]\n",
    "  if id_x == prop_x :\n",
    "    return True\n",
    "  else:\n",
    "    return False"
   ]
  },
  {
   "cell_type": "code",
   "execution_count": null,
   "metadata": {},
   "outputs": [],
   "source": [
    "def create_conquest(prop_x,id_x,conquistador, nombreMunicipio):\n",
    "  id_y=get_fronteras(prop_x,id_x)\n",
    "  #TODO: buscar en la bbdd la probabilidad de éxito de municipio x\n",
    "  prob_x = porcentaje_conq ##TODO:Incluir el relativo al ranking y a los municipios totales\n",
    "  #TODO: algoritmo de éxito\n",
    "  success=0\n",
    "  if(np.random.random()<prob_x):\n",
    "    print(\"A por ellos oeoeoeoeo\")\n",
    "    success = 1\n",
    "  else:\n",
    "    print(\"Ha fallado la conquista\\n\\n\")\n",
    "    success = 0\n",
    "  if success:\n",
    "    sql = \"UPDATE municipios SET id_propietario = {0} WHERE id_municipio={1}\".format(prop_x, id_y)\n",
    "    try:\n",
    "      cursor.execute(sql)\n",
    "      print(conquistador, \"ha conquistado a \", municipio,\"\\n\\n\")\n",
    "      db.commit()\n",
    "    except:\n",
    "      db.rollback()"
   ]
  },
  {
   "cell_type": "code",
   "execution_count": null,
   "metadata": {},
   "outputs": [],
   "source": [
    "def create_revellion(prop_x,id_x,conquistador, nombreMunicipio):\n",
    "  #TODO: Extraer bd probabilidad de rebelion de X\n",
    "  prob_x = 0.05\n",
    "  #TODO: algoritmo de éxito\n",
    "  succes =0\n",
    "  if succes:\n",
    "    pass\n",
    "  #TODO: cambiar en la bd propietario prop_x = id_x\n",
    "  else:\n",
    "    create_conquest(prop_x,id_x)"
   ]
  },
  {
   "cell_type": "code",
   "execution_count": null,
   "metadata": {},
   "outputs": [],
   "source": [
    "def get_fronteras(prop_x,id_x):\n",
    "  sql = \"SELECT fronteras from municipios where id_municipio = {0}\".format(id_x)\n",
    "  cursor.execute(sql)\n",
    "  fronteras = cursor.fetchall()\n",
    "  array_fronteras = fronteras[0][0].split(',')\n",
    "  for frontera in array_fronteras:\n",
    "      print(\"Sus fronteras son:\", frontera)\n",
    "  idx_frontera = np.random.choice(array_fronteras)\n",
    "  while(True):\n",
    "      if(is_same_owner(id_x,idx_frontera)):\n",
    "        array_fronteras.remove(idx_frontera)\n",
    "        print(\"Eliminada frontera:\", idx_frontera)\n",
    "        idx_frontera = np.random.choice(array_fronteras)\n",
    "        ##Añado al array las fronteras de mis fronteras conquistadas\n",
    "        ##Quitarse a si mismo\n",
    "        ##Quitar repes\n",
    "      else:\n",
    "        break\n",
    "  #TODO: Si no hay mas fronteras, que pasa?\n",
    "  print(\"Se ataca a\", idx_frontera)\n",
    "  return idx_frontera"
   ]
  },
  {
   "cell_type": "code",
   "execution_count": null,
   "metadata": {},
   "outputs": [],
   "source": [
    "get_municipio()"
   ]
  },
  {
   "cell_type": "code",
   "execution_count": null,
   "metadata": {},
   "outputs": [],
   "source": [
    "for x in range(1,1000):\n",
    " battle()"
   ]
  },
  {
   "cell_type": "code",
   "execution_count": null,
   "metadata": {},
   "outputs": [],
   "source": [
    "if(np.random.random()<porcentaje_conq):\n",
    "    print(\"True\")\n",
    "else:\n",
    "    print(\"False\")"
   ]
  },
  {
   "cell_type": "code",
   "execution_count": null,
   "metadata": {},
   "outputs": [],
   "source": [
    "counterFalse=0\n",
    "counterTrue=0\n",
    "for int in range(0,10000):\n",
    "    if(np.random.random()<porcentaje_conq):\n",
    "        print(\"True\")\n",
    "        counterTrue += 1\n",
    "    else:\n",
    "        print(\"False\")\n",
    "        counterFalse += 1\n",
    "        \n",
    "print(counterFalse)\n",
    "print(counterTrue)"
   ]
  },
  {
   "cell_type": "code",
   "execution_count": null,
   "metadata": {},
   "outputs": [],
   "source": [
    "np.random.randint(4)"
   ]
  },
  {
   "cell_type": "code",
   "execution_count": null,
   "metadata": {},
   "outputs": [],
   "source": []
  }
 ],
 "metadata": {
  "kernelspec": {
   "display_name": "Python 3",
   "language": "python",
   "name": "python3"
  },
  "language_info": {
   "codemirror_mode": {
    "name": "ipython",
    "version": 3
   },
   "file_extension": ".py",
   "mimetype": "text/x-python",
   "name": "python",
   "nbconvert_exporter": "python",
   "pygments_lexer": "ipython3",
   "version": "3.7.3"
  }
 },
 "nbformat": 4,
 "nbformat_minor": 2
}
